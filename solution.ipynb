{
 "cells": [
  {
   "cell_type": "code",
   "execution_count": null,
   "id": "95502a50-14e2-40c5-932a-dcd8b328ea79",
   "metadata": {},
   "outputs": [],
   "source": [
    "#solution 1\n",
    "Our client has around 10k LinkedIn profile , he wants to know the estimate income range of these profile"
   ]
  },
  {
   "cell_type": "code",
   "execution_count": null,
   "id": "d8fcdf61-56e7-49cd-afd4-3695d3155577",
   "metadata": {},
   "outputs": [],
   "source": [
    "#Step1: data cleaning and Preprocessing:\n",
    "Clean the data, remove duplicates, remove NA values. Ensure that you have information like job titles,\n",
    "location, industry type\n",
    "\n",
    "Step2: Income Estimation:\n",
    "For estimation we can use external data source like online job portals, salary surveys which provide\n",
    "income data for various jobs and industries for diffentent location\n",
    "\n",
    "Step3:data Analysis: Use different python libraries like Pandas and NumPy to create model that maps\n",
    "job title ,location and industries to estimate income ranges based on external data source\n",
    "We can use different models like regression analysis for more accurate income estimation and we can\n",
    "build predictive model based on features like location industries, estimate income\n"
   ]
  },
  {
   "cell_type": "code",
   "execution_count": null,
   "id": "742fad64-a952-4509-b145-d432157cb0f2",
   "metadata": {},
   "outputs": [],
   "source": [
    "#code"
   ]
  },
  {
   "cell_type": "code",
   "execution_count": null,
   "id": "7baedb48-0918-4e9a-ae1d-6cb24a578f1b",
   "metadata": {},
   "outputs": [],
   "source": [
    "Import pandas as pd\n",
    "From sklearn.model_selection import train_test_split\n",
    "From sklearn.linear_model import LInearRegression\n",
    "From sklearn.metrics import mean_squared_error"
   ]
  },
  {
   "cell_type": "code",
   "execution_count": null,
   "id": "f6dd5ae4-0c89-4ada-b7c0-0244cc290c53",
   "metadata": {},
   "outputs": [],
   "source": [
    "#load the data\n",
    "Data= pd.read_csv(“linkedin_profile.csv”)\n",
    "Features=data[[“jobTitle”,”Industry”,”location”]]\n",
    "Data[‘’Income”]=[your_income_labels]"
   ]
  },
  {
   "cell_type": "code",
   "execution_count": null,
   "id": "a5ebc5db-6a81-40c2-be42-0dbb59623778",
   "metadata": {},
   "outputs": [],
   "source": [
    "#split the data\n",
    "X= features\n",
    "Y=data[“Income”]\n",
    "X_train,X_test,Y_train,Y_test=train_test_split(X,Y,test_size=0.2, random_state=42)\n",
    "Model=LinearRegression()\n",
    "Model.fit(X_train,y_train)"
   ]
  },
  {
   "cell_type": "code",
   "execution_count": null,
   "id": "5a326aea-d2c0-490c-880b-cd25cba6def1",
   "metadata": {},
   "outputs": [],
   "source": [
    "#make prediction\n",
    "Y_pred=model.predict(X_test)\n",
    "#evaluate the model\n",
    "mse=mean_squred_error(y_test,y_predict)\n",
    "Print(mse)"
   ]
  },
  {
   "cell_type": "code",
   "execution_count": null,
   "id": "d6a03a5e-70da-459d-817e-240f89b4d216",
   "metadata": {},
   "outputs": [],
   "source": [
    "#To find the LinkedIn company links of 1L company"
   ]
  },
  {
   "cell_type": "code",
   "execution_count": null,
   "id": "621af617-fcf3-42c2-bac7-a2e22ec9a61a",
   "metadata": {},
   "outputs": [],
   "source": [
    "#use web scraping we can find the company links"
   ]
  },
  {
   "cell_type": "code",
   "execution_count": null,
   "id": "82194294-6746-441d-a568-f2d380827ac7",
   "metadata": {},
   "outputs": [],
   "source": [
    "import requests\n",
    "from bs4 import BeautifulSoup\n",
    "\n",
    "\n",
    "\n",
    "# Create a dictionary to store company names and LinkedIn URLs\n",
    "\n",
    "\n",
    "# Iterate through the list of company names\n",
    "\n",
    "   "
   ]
  },
  {
   "cell_type": "code",
   "execution_count": null,
   "id": "90aafde4-b4c9-4c17-a070-66f2182462ed",
   "metadata": {},
   "outputs": [],
   "source": [
    "# Your list of company names\n",
    "company_names = ['Company A', 'Company B', 'Company C', ...]"
   ]
  },
  {
   "cell_type": "code",
   "execution_count": null,
   "id": "a4cb3320-f4e9-4ad6-874b-6d2e9501e985",
   "metadata": {},
   "outputs": [],
   "source": [
    "company_links = {}\n",
    "for company_name in company_names:\n",
    "    search_url = f\"https://www.linkedin.com/search/results/companies/?keywords={company_name}\"\n",
    "    \n",
    "    response = requests.get(search_url)\n",
    "    \n",
    "    soup = BeautifulSoup(response.content, 'html.parser')\n",
    "    \n",
    "    results = soup.find_all('li', class_='reusable-search__result-container')\n",
    "    \n",
    "    if results:\n",
    "        first_result = results[0]\n",
    "        company_link = first_result.find('a', class_='app-aware-link')\n",
    "        \n",
    "        if company_link:\n",
    "            company_url = company_link.get('href')\n",
    "            company_links[company_name] = f\"https://www.linkedin.com{company_url}\"\n",
    "\n",
    "for company_name, company_url in company_links.items():\n",
    "    print(f\"{company_name}: {company_url}\")\n"
   ]
  },
  {
   "cell_type": "code",
   "execution_count": null,
   "id": "d98f2a82-13f7-424f-a4c8-e1df36d359d7",
   "metadata": {},
   "outputs": [],
   "source": [
    "#solution3:Need to find API ,through which we can send LinkedIn messages ton other LinkedIn users"
   ]
  },
  {
   "cell_type": "code",
   "execution_count": null,
   "id": "0ee7c469-48da-4ff2-9c16-c7b12663b7ed",
   "metadata": {},
   "outputs": [],
   "source": [
    "#step 1:\n",
    "go to the LinkedIn profile then by right clicking go to inspect page\n",
    "step 2:\n",
    "send “hi”message to user\n",
    "step 3 :\n",
    "go to network page\n",
    "step 4 :there you find API"
   ]
  },
  {
   "cell_type": "code",
   "execution_count": null,
   "id": "43b770f3-cdd6-4847-aca5-212360501c55",
   "metadata": {},
   "outputs": [],
   "source": [
    "https://www.linkedin.com/voyager/api/voyagerMessagingDashMessengerMessages?action=createMes\n",
    "sage\n",
    "POST\n",
    "\n",
    "{\n",
    "    &quot;value&quot;: {\n",
    "        &quot;renderContentUnions&quot;: [],\n",
    "        &quot;entityUrn&quot;:\n",
    "&quot;urn:li:msg_message:(urn:li:fsd_profile:ACoAAARietoB5aLbNEa2SZRawfB2fnkSyt3by60,2-\n",
    "MTY5NzM2NzAyOTU1NGI0MDQyOC0wMDEmZDMwNzZjZGMtYTBiNS00OTMyLWI0NjUtNDBmOTYyYTk2\n",
    "YjRjXzAxMg==)&quot;,\n",
    "        &quot;backendConversationUrn&quot;: &quot;urn:li:messagingThread:2-\n",
    "ZDMwNzZjZGMtYTBiNS00OTMyLWI0NjUtNDBmOTYyYTk2YjRjXzAxMg==&quot;,\n",
    "        &quot;senderUrn&quot;:\n",
    "&quot;urn:li:msg_messagingParticipant:urn:li:fsd_profile:ACoAAARietoB5aLbNEa2SZRawfB2fnkSyt3by60&quot;,\n",
    "        &quot;originToken&quot;: &quot;d4026d84-eb8d-46f9-9103-05147a72a7cb&quot;,\n",
    "        &quot;body&quot;: {\n",
    "            &quot;attributes&quot;: [],\n",
    "            &quot;text&quot;: &quot;hi&quot;\n",
    "        },\n",
    "        &quot;backendUrn&quot;: &quot;urn:li:messagingMessage:2-\n",
    "MTY5NzM2NzAyOTU1NGI0MDQyOC0wMDEmZDMwNzZjZGMtYTBiNS00OTMyLWI0NjUtNDBmOTYyYTk2\n",
    "YjRjXzAxMg==&quot;,\n",
    "        &quot;conversationUrn&quot;:\n",
    "&quot;urn:li:msg_conversation:(urn:li:fsd_profile:ACoAAARietoB5aLbNEa2SZRawfB2fnkSyt3by60,2-\n",
    "ZDMwNzZjZGMtYTBiNS00OTMyLWI0NjUtNDBmOTYyYTk2YjRjXzAxMg==)&quot;,\n",
    "        &quot;deliveredAt&quot;: 1697367029718\n",
    "    }\n",
    "}"
   ]
  },
  {
   "cell_type": "code",
   "execution_count": null,
   "id": "5404841c-0fa1-4bc5-803d-b1300a2e6da5",
   "metadata": {},
   "outputs": [],
   "source": [
    "#Solution 4\n",
    "How to identify list of companies whose tech stack is build on python"
   ]
  },
  {
   "cell_type": "code",
   "execution_count": null,
   "id": "e25fd9eb-3f3a-426b-8aaf-77e49b114e22",
   "metadata": {},
   "outputs": [],
   "source": [
    "#1 GitHub repositories :\n",
    "They can provide insights into company’s tech stack. Companies that are actively contributing to or\n",
    "maintain python releted open source project are using python\n",
    "\n",
    "2 linkedin profiles:\n",
    "By using linkedin’s advance search features to find companies with employees whose mention python in\n",
    "their profile are more likely using python in its tech stack\n",
    "\n",
    "3 online job portals :\n",
    "Job portals like linkedin, indeed and glassdoor often mention the technologies a company is using"
   ]
  },
  {
   "cell_type": "code",
   "execution_count": null,
   "id": "a2fe22fc-543d-4686-bbf1-4c9209e8e35f",
   "metadata": {},
   "outputs": [],
   "source": [
    "#by using webscaping tecnique we can find company names"
   ]
  },
  {
   "cell_type": "code",
   "execution_count": 3,
   "id": "5f101592-071b-406c-ab6a-4f0a477763c2",
   "metadata": {},
   "outputs": [],
   "source": [
    "import requests\n",
    "from bs4 import BeautifulSoup\n",
    "\n",
    "# Set the LinkedIn search URL\n",
    "url = \"https://www.linkedin.com/search/results/companies/?keywords=Python%20technology%20stack\"\n",
    "\n",
    "# Send an HTTP GET request to the LinkedIn search URL\n",
    "response = requests.get(url)\n",
    "\n",
    "# Parse the HTML content of the page\n",
    "soup = BeautifulSoup(response.text, \"html.parser\")\n",
    "\n",
    "# Extract company names\n",
    "company_names = []\n",
    "company_elements = soup.find_all(\"div\", class_=\"artdeco-entity-lockup__title\")\n",
    "for element in company_elements:\n",
    "    company_name = element.get_text(strip=True)\n",
    "    company_names.append(company_name)\n",
    "\n",
    "# Display the first 5 company names\n",
    "for i, company in enumerate(company_names[:5]):\n",
    "    print(f\"{i + 1}. {company}\")\n"
   ]
  },
  {
   "cell_type": "code",
   "execution_count": null,
   "id": "46f53179-e4bd-414d-8a5a-c1875c441ac1",
   "metadata": {},
   "outputs": [],
   "source": []
  },
  {
   "cell_type": "code",
   "execution_count": null,
   "id": "dded42c5-7768-4086-a935-179d9192155b",
   "metadata": {},
   "outputs": [],
   "source": []
  }
 ],
 "metadata": {
  "kernelspec": {
   "display_name": "Python 3 [3.10]",
   "language": "python",
   "name": "python3"
  },
  "language_info": {
   "codemirror_mode": {
    "name": "ipython",
    "version": 3
   },
   "file_extension": ".py",
   "mimetype": "text/x-python",
   "name": "python",
   "nbconvert_exporter": "python",
   "pygments_lexer": "ipython3",
   "version": "3.10.2"
  }
 },
 "nbformat": 4,
 "nbformat_minor": 5
}
